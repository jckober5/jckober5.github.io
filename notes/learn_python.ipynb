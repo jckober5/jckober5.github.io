{
 "cells": [
  {
   "cell_type": "markdown",
   "metadata": {},
   "source": [
    "# Alex the Analyst - Python Beginner to Advanced in One Hour\n",
    "\n",
    "https://www.youtube.com/watch?v=1LG65qXfeQY"
   ]
  },
  {
   "cell_type": "markdown",
   "metadata": {},
   "source": [
    "## Variables and Data Types\n",
    "Integer, String, Float, Boolean\n",
    "paste values together\n",
    "change data types\n",
    "etc..."
   ]
  },
  {
   "cell_type": "code",
   "execution_count": 33,
   "metadata": {},
   "outputs": [
    {
     "data": {
      "text/plain": [
       "'Josh is number 22'"
      ]
     },
     "execution_count": 33,
     "metadata": {},
     "output_type": "execute_result"
    }
   ],
   "source": [
    "# Intro to assign data types\n",
    "x = 22\n",
    "name = 'Josh'\n",
    "y = 23.1\n",
    "awesome = True\n",
    "type(awesome)\n",
    "\n",
    "# Paste values together\n",
    "name + ' is awesome' \n",
    "\n",
    "# Change data types\n",
    "name + ' is number ' + str(x)\n"
   ]
  },
  {
   "cell_type": "markdown",
   "metadata": {},
   "source": [
    "### Lists\n",
    "You can store anything in a list.\n",
    "Tuples are like lists, but they can't be altered after creation like a list\n",
    "Sets are like lists but only show 1 of each value stored\n",
    "Dictionary store values and definitions\n"
   ]
  },
  {
   "cell_type": "code",
   "execution_count": 34,
   "metadata": {},
   "outputs": [
    {
     "name": "stdout",
     "output_type": "stream",
     "text": [
      "[1, False, [1, 2, 3], 'list']\n",
      "(1, False, [1, 2, 3], 'tuple')\n",
      "{1, 2, 3, 4, 'set'}\n",
      "{'Type': 'Dict', 'Name': 'Josh'}\n",
      "[1, False, [1, 2, 4], 'list']\n",
      "{'Type': 'Dictionary', 'Name': 'Josh'}\n"
     ]
    }
   ],
   "source": [
    "# storing multiple values\n",
    "print([1,False,[1,2,3],'list'])\n",
    "print((1,False,[1,2,3],'tuple'))\n",
    "print({1,2,3,2,3,4,'set'})\n",
    "print({'Type':'Dict','Name':'Josh'})\n",
    "\n",
    "# changing values in a list\n",
    "current_list = [1,False,[1,2,3],'list']\n",
    "current_list[2][2] = 4\n",
    "print(current_list)\n",
    "\n",
    "# Extracting data\n",
    "data = {'Type':'Dict','Name':'Josh'}\n",
    "data.values() #Dict, Josh\n",
    "data.keys() # Type, Name\n",
    "data.items() #Type, Dict, Name, Josh\n",
    "\n",
    "# Reassign values\n",
    "data['Type'] = 'Dictionary'\n",
    "print(data)"
   ]
  },
  {
   "cell_type": "markdown",
   "metadata": {},
   "source": [
    "## Statements & Operators\n",
    "Loops and If Statements based on conditions"
   ]
  },
  {
   "cell_type": "markdown",
   "metadata": {},
   "source": [
    "### If Statement\n",
    "Conditional statements "
   ]
  },
  {
   "cell_type": "code",
   "execution_count": 35,
   "metadata": {},
   "outputs": [
    {
     "name": "stdout",
     "output_type": "stream",
     "text": [
      "Run Away\n"
     ]
    }
   ],
   "source": [
    "#If Statement Syntax\n",
    "price = 766\n",
    "\n",
    "if price < 50:\n",
    "    action = 'Buy It'\n",
    "elif price > 100:\n",
    "    action = 'Run Away'\n",
    "else:\n",
    "    action = 'Walk Away'\n",
    "print(action)"
   ]
  },
  {
   "cell_type": "markdown",
   "metadata": {},
   "source": [
    "### For Loop\n",
    "Conditional statements for a specified number of times"
   ]
  },
  {
   "cell_type": "code",
   "execution_count": 36,
   "metadata": {},
   "outputs": [
    {
     "name": "stdout",
     "output_type": "stream",
     "text": [
      "Small [5, 1]\n",
      "Regular [100, 200, 50, 80, 78]\n",
      "Large [234, 345, 444]\n"
     ]
    }
   ],
   "source": [
    "# For Loop Syntax\n",
    "sales = [100, 200, 5, 234, 345, 50, 1, 80, 444, 78]\n",
    "large_sale = []\n",
    "regular_sale = []\n",
    "small_sale = []\n",
    "\n",
    "for sale in sales:\n",
    "    if sale < 20:\n",
    "        small_sale.append(sale)\n",
    "    elif sale <= 200:\n",
    "        regular_sale.append(sale)\n",
    "    else:\n",
    "        large_sale.append(sale)\n",
    "print('Small', small_sale)\n",
    "print('Regular', regular_sale)\n",
    "print('Large',large_sale)        "
   ]
  },
  {
   "cell_type": "markdown",
   "metadata": {},
   "source": [
    "## Functions\n",
    "Automate logic into simple commands"
   ]
  },
  {
   "cell_type": "code",
   "execution_count": 37,
   "metadata": {},
   "outputs": [
    {
     "name": "stdout",
     "output_type": "stream",
     "text": [
      "Small [5, 1]\n",
      "Regular [100, 200, 50, 80, 78]\n",
      "Large [234, 345, 444]\n"
     ]
    }
   ],
   "source": [
    "def sale_assignment(sale_list):\n",
    "    sales = sale_list\n",
    "    large_sale = []\n",
    "    regular_sale = []\n",
    "    small_sale = []\n",
    "\n",
    "    for sale in sales:\n",
    "        if sale < 20:\n",
    "            small_sale.append(sale)\n",
    "        elif sale <= 200:\n",
    "            regular_sale.append(sale)\n",
    "        else:\n",
    "            large_sale.append(sale)\n",
    "    print('Small', small_sale)\n",
    "    print('Regular', regular_sale)\n",
    "    print('Large',large_sale) \n",
    "\n",
    "my_sales = [100, 200, 5, 234, 345, 50, 1, 80, 444, 78]\n",
    "sale_assignment(my_sales)"
   ]
  }
 ],
 "metadata": {
  "kernelspec": {
   "display_name": "Python 3",
   "language": "python",
   "name": "python3"
  },
  "language_info": {
   "codemirror_mode": {
    "name": "ipython",
    "version": 3
   },
   "file_extension": ".py",
   "mimetype": "text/x-python",
   "name": "python",
   "nbconvert_exporter": "python",
   "pygments_lexer": "ipython3",
   "version": "3.12.0"
  }
 },
 "nbformat": 4,
 "nbformat_minor": 2
}
